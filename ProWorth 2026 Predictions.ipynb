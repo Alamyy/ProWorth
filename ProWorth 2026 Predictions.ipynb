{
 "cells": [
  {
   "cell_type": "markdown",
   "id": "5973bf7f",
   "metadata": {},
   "source": [
    "#### 2026 PREDICTIONS"
   ]
  },
  {
   "cell_type": "code",
   "execution_count": 1,
   "id": "ffe8ce8b",
   "metadata": {},
   "outputs": [],
   "source": [
    "import pandas as pd\n",
    "import joblib\n",
    "\n",
    "# Load dataset\n",
    "df = pd.read_csv(\"D:/Football Project/ProWorth/merged_df.csv\")\n",
    "\n",
    "# Define the correct column order based on the training model\n",
    "ordered_features = [\n",
    "    'value_2019', 'value_2020', 'value_2021', 'value_2022',\n",
    "    'goals_2019', 'goals_2020', 'goals_2021', 'goals_2022',\n",
    "    'assists_2019', 'assists_2020', 'assists_2021', 'assists_2022',\n",
    "    'days_until_expiration',\n",
    "    'injuries_2019.0', 'injuries_2020.0', 'injuries_2021.0', 'injuries_2022.0',\n",
    "    'country_of_citizenship_encoded', 'sub_position_encoded'\n",
    "]\n",
    "\n",
    "# Map new 2021-2024 values to the 2019-2022 features\n",
    "column_renames = {\n",
    "    'value_2021': 'value_2019',\n",
    "    'value_2022': 'value_2020',\n",
    "    'value_2023': 'value_2021',\n",
    "    'value_2024': 'value_2022',\n",
    "    'goals_2021': 'goals_2019',\n",
    "    'goals_2022': 'goals_2020',\n",
    "    'goals_2023': 'goals_2021',\n",
    "    'goals_2024': 'goals_2022',\n",
    "    'assists_2021': 'assists_2019',\n",
    "    'assists_2022': 'assists_2020',\n",
    "    'assists_2023': 'assists_2021',\n",
    "    'assists_2024': 'assists_2022',\n",
    "    'injuries_2021.0': 'injuries_2019.0',\n",
    "    'injuries_2022.0': 'injuries_2020.0',\n",
    "    'injuries_2023.0': 'injuries_2021.0',\n",
    "    'injuries_2024.0': 'injuries_2022.0'\n",
    "}\n",
    "\n",
    "# Select and rename relevant columns\n",
    "relevant_columns = list(column_renames.keys()) + ['sub_position_encoded', 'country_of_citizenship_encoded', 'days_until_expiration']\n",
    "X_2026 = df[relevant_columns].rename(columns=column_renames)\n",
    "\n",
    "# Reorder X_2026 to match the feature order used during training\n",
    "X_2026 = X_2026[ordered_features]\n",
    "\n",
    "# Load the pre-trained model\n",
    "model_path = r\"D:\\Football Project\\ProWorth\\football_value_model.pkl\"\n",
    "model = joblib.load(model_path)\n",
    "\n",
    "# Predict market value for 2026\n",
    "df['predicted_value_2026'] = model.predict(X_2026)\n",
    "\n",
    "# Save the predictions\n",
    "df[['player_id', 'name', 'predicted_value_2026']].to_csv(\"predicted_market_values_2026.csv\", index=False)"
   ]
  },
  {
   "cell_type": "code",
   "execution_count": 2,
   "id": "65d53110",
   "metadata": {},
   "outputs": [
    {
     "data": {
      "application/vnd.microsoft.datawrangler.viewer.v0+json": {
       "columns": [
        {
         "name": "index",
         "rawType": "int64",
         "type": "integer"
        },
        {
         "name": "player_id",
         "rawType": "int64",
         "type": "integer"
        },
        {
         "name": "name",
         "rawType": "object",
         "type": "string"
        },
        {
         "name": "predicted_value_2026",
         "rawType": "float64",
         "type": "float"
        }
       ],
       "conversionMethod": "pd.DataFrame",
       "ref": "8f2e8c9a-fc67-4377-9e44-e1e8e1811fb1",
       "rows": [
        [
         "0",
         "3333",
         "James Milner",
         "473551.6996775424"
        ],
        [
         "1",
         "4391",
         "Boy Waterman",
         "21289.814527645653"
        ],
        [
         "2",
         "9500",
         "David Marshall",
         "15223.172237448964"
        ],
        [
         "3",
         "12029",
         "Ludovic Butelle",
         "62023.11587141491"
        ],
        [
         "4",
         "12359",
         "Niki Mäenpää",
         "36841.0500488996"
        ],
        [
         "5",
         "12589",
         "Craig Gordon",
         "53168.539583447775"
        ],
        [
         "6",
         "12880",
         "Dimitrios Sotiriou",
         "62021.18367632181"
        ],
        [
         "7",
         "14044",
         "Andy Lonergan",
         "42036.811006666336"
        ],
        [
         "8",
         "14086",
         "Ashley Young",
         "260253.90405573373"
        ],
        [
         "9",
         "14555",
         "Scott Carson",
         "116382.27946385226"
        ],
        [
         "10",
         "15452",
         "Raúl Albiol",
         "1033783.6512048574"
        ],
        [
         "11",
         "15570",
         "Igor Akinfeev",
         "401984.2839888349"
        ],
        [
         "12",
         "15956",
         "Jesús Navas",
         "1535456.6336611148"
        ],
        [
         "13",
         "16136",
         "Dante",
         "267730.0208221935"
        ],
        [
         "14",
         "16756",
         "Oleg Ivanov",
         "34990.61019072512"
        ],
        [
         "15",
         "16911",
         "Kasper Schmeichel",
         "262395.15562305966"
        ],
        [
         "16",
         "17965",
         "Hugo Lloris",
         "340691.4207399849"
        ],
        [
         "17",
         "18940",
         "Rémy Riou",
         "170397.14129318777"
        ],
        [
         "18",
         "19041",
         "Gökhan Inler",
         "17118.259565331064"
        ],
        [
         "19",
         "21306",
         "Andy Considine",
         "34316.14549008939"
        ],
        [
         "20",
         "25520",
         "Remko Pasveer",
         "66450.42348950775"
        ],
        [
         "21",
         "7825",
         "Pepe Reina",
         "378070.2232079438"
        ],
        [
         "22",
         "22628",
         "Benoît Costil",
         "213940.10528443867"
        ],
        [
         "23",
         "14132",
         "Pepe",
         "208018.5248309607"
        ],
        [
         "24",
         "22141",
         "Antonio Mirante",
         "28365.32095156551"
        ],
        [
         "25",
         "24846",
         "Ricardo Batista",
         "87052.5097684211"
        ],
        [
         "26",
         "27807",
         "Daniele Padelli",
         "73438.38500829534"
        ],
        [
         "27",
         "29241",
         "Thiago Silva",
         "402005.45808740513"
        ],
        [
         "28",
         "29391",
         "Michael McGovern",
         "14927.323345169916"
        ],
        [
         "29",
         "29364",
         "João Moutinho",
         "296004.73286619346"
        ],
        [
         "30",
         "29692",
         "Lukasz Fabianski",
         "391032.772327461"
        ],
        [
         "31",
         "29712",
         "John Ruddy",
         "99218.05181883424"
        ],
        [
         "32",
         "27706",
         "Mikhail Kerzhakov",
         "198680.8531486732"
        ],
        [
         "33",
         "17259",
         "Manuel Neuer",
         "1511766.6989724317"
        ],
        [
         "34",
         "25557",
         "Sergio Ramos",
         "1246340.3466852168"
        ],
        [
         "35",
         "21872",
         "Gianluca Pegolo",
         "73686.70449976635"
        ],
        [
         "36",
         "25508",
         "Salvatore Sirigu",
         "103554.05232818522"
        ],
        [
         "37",
         "28140",
         "Max Gradel",
         "381057.6797161813"
        ],
        [
         "38",
         "30290",
         "Kenneth Vermeer",
         "11370.251815689386"
        ],
        [
         "39",
         "29559",
         "Guillermo Ochoa",
         "497331.3193860202"
        ],
        [
         "40",
         "33027",
         "Tim Krul",
         "231111.17164332603"
        ],
        [
         "41",
         "33571",
         "Lorenzo De Silvestri",
         "187194.688321754"
        ],
        [
         "42",
         "33210",
         "Przemyslaw Tyton",
         "41827.45073712944"
        ],
        [
         "43",
         "33781",
         "Vito Mannone",
         "82463.68202700993"
        ],
        [
         "44",
         "33706",
         "Nani",
         "73097.3200908793"
        ],
        [
         "45",
         "32467",
         "Ivan Rakitic",
         "1753642.195814083"
        ],
        [
         "46",
         "27992",
         "Luka Modric",
         "4665286.919496416"
        ],
        [
         "47",
         "33862",
         "Sinan Bolat",
         "162853.5377076127"
        ],
        [
         "48",
         "34322",
         "Sokratis Papastathopoulos",
         "227898.45717392437"
        ],
        [
         "49",
         "23951",
         "Steve Mandanda",
         "402653.1333166481"
        ]
       ],
       "shape": {
        "columns": 3,
        "rows": 4478
       }
      },
      "text/html": [
       "<div>\n",
       "<style scoped>\n",
       "    .dataframe tbody tr th:only-of-type {\n",
       "        vertical-align: middle;\n",
       "    }\n",
       "\n",
       "    .dataframe tbody tr th {\n",
       "        vertical-align: top;\n",
       "    }\n",
       "\n",
       "    .dataframe thead th {\n",
       "        text-align: right;\n",
       "    }\n",
       "</style>\n",
       "<table border=\"1\" class=\"dataframe\">\n",
       "  <thead>\n",
       "    <tr style=\"text-align: right;\">\n",
       "      <th></th>\n",
       "      <th>player_id</th>\n",
       "      <th>name</th>\n",
       "      <th>predicted_value_2026</th>\n",
       "    </tr>\n",
       "  </thead>\n",
       "  <tbody>\n",
       "    <tr>\n",
       "      <th>0</th>\n",
       "      <td>3333</td>\n",
       "      <td>James Milner</td>\n",
       "      <td>4.735517e+05</td>\n",
       "    </tr>\n",
       "    <tr>\n",
       "      <th>1</th>\n",
       "      <td>4391</td>\n",
       "      <td>Boy Waterman</td>\n",
       "      <td>2.128981e+04</td>\n",
       "    </tr>\n",
       "    <tr>\n",
       "      <th>2</th>\n",
       "      <td>9500</td>\n",
       "      <td>David Marshall</td>\n",
       "      <td>1.522317e+04</td>\n",
       "    </tr>\n",
       "    <tr>\n",
       "      <th>3</th>\n",
       "      <td>12029</td>\n",
       "      <td>Ludovic Butelle</td>\n",
       "      <td>6.202312e+04</td>\n",
       "    </tr>\n",
       "    <tr>\n",
       "      <th>4</th>\n",
       "      <td>12359</td>\n",
       "      <td>Niki Mäenpää</td>\n",
       "      <td>3.684105e+04</td>\n",
       "    </tr>\n",
       "    <tr>\n",
       "      <th>...</th>\n",
       "      <td>...</td>\n",
       "      <td>...</td>\n",
       "      <td>...</td>\n",
       "    </tr>\n",
       "    <tr>\n",
       "      <th>4473</th>\n",
       "      <td>552057</td>\n",
       "      <td>Adam Hlozek</td>\n",
       "      <td>1.309114e+07</td>\n",
       "    </tr>\n",
       "    <tr>\n",
       "      <th>4474</th>\n",
       "      <td>564785</td>\n",
       "      <td>Kristian Thorstvedt</td>\n",
       "      <td>6.430555e+06</td>\n",
       "    </tr>\n",
       "    <tr>\n",
       "      <th>4475</th>\n",
       "      <td>585339</td>\n",
       "      <td>Pape Habib Guèye</td>\n",
       "      <td>8.201100e+05</td>\n",
       "    </tr>\n",
       "    <tr>\n",
       "      <th>4476</th>\n",
       "      <td>551505</td>\n",
       "      <td>Mousa Tamari</td>\n",
       "      <td>8.551028e+06</td>\n",
       "    </tr>\n",
       "    <tr>\n",
       "      <th>4477</th>\n",
       "      <td>631927</td>\n",
       "      <td>Saud Abdulhamid</td>\n",
       "      <td>4.459358e+06</td>\n",
       "    </tr>\n",
       "  </tbody>\n",
       "</table>\n",
       "<p>4478 rows × 3 columns</p>\n",
       "</div>"
      ],
      "text/plain": [
       "      player_id                 name  predicted_value_2026\n",
       "0          3333         James Milner          4.735517e+05\n",
       "1          4391         Boy Waterman          2.128981e+04\n",
       "2          9500       David Marshall          1.522317e+04\n",
       "3         12029      Ludovic Butelle          6.202312e+04\n",
       "4         12359         Niki Mäenpää          3.684105e+04\n",
       "...         ...                  ...                   ...\n",
       "4473     552057          Adam Hlozek          1.309114e+07\n",
       "4474     564785  Kristian Thorstvedt          6.430555e+06\n",
       "4475     585339     Pape Habib Guèye          8.201100e+05\n",
       "4476     551505         Mousa Tamari          8.551028e+06\n",
       "4477     631927      Saud Abdulhamid          4.459358e+06\n",
       "\n",
       "[4478 rows x 3 columns]"
      ]
     },
     "execution_count": 2,
     "metadata": {},
     "output_type": "execute_result"
    }
   ],
   "source": [
    "predictions = pd.read_csv(\"D:/Football Project/ProWorth/predicted_market_values_2026.csv\")\n",
    "predictions"
   ]
  }
 ],
 "metadata": {
  "kernelspec": {
   "display_name": "Python 3",
   "language": "python",
   "name": "python3"
  },
  "language_info": {
   "codemirror_mode": {
    "name": "ipython",
    "version": 3
   },
   "file_extension": ".py",
   "mimetype": "text/x-python",
   "name": "python",
   "nbconvert_exporter": "python",
   "pygments_lexer": "ipython3",
   "version": "3.11.5"
  }
 },
 "nbformat": 4,
 "nbformat_minor": 5
}
